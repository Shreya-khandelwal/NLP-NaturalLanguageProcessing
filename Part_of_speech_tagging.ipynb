{
 "cells": [
  {
   "cell_type": "code",
   "execution_count": 1,
   "metadata": {},
   "outputs": [],
   "source": [
    "import spacy\n",
    "nlp = spacy.load('en_core_web_sm')"
   ]
  },
  {
   "cell_type": "code",
   "execution_count": 2,
   "metadata": {},
   "outputs": [],
   "source": [
    "doc = nlp(u'The quick brown fox jumped over the lazy dog\\'s back')"
   ]
  },
  {
   "cell_type": "code",
   "execution_count": 6,
   "metadata": {},
   "outputs": [
    {
     "data": {
      "text/plain": [
       "\"The quick brown fox jumped over the lazy dog's back\""
      ]
     },
     "execution_count": 6,
     "metadata": {},
     "output_type": "execute_result"
    }
   ],
   "source": [
    "#get content of document\n",
    "doc.text"
   ]
  },
  {
   "cell_type": "code",
   "execution_count": 7,
   "metadata": {},
   "outputs": [
    {
     "name": "stdout",
     "output_type": "stream",
     "text": [
      "jumped jumped VERB VBD\n"
     ]
    }
   ],
   "source": [
    "#grab particular token by index\n",
    "print(f\"{doc[4].text} {doc[4].pos_} {doc[4].tag_}\")"
   ]
  },
  {
   "cell_type": "code",
   "execution_count": 13,
   "metadata": {},
   "outputs": [
    {
     "name": "stdout",
     "output_type": "stream",
     "text": [
      "The        DET        DT         determiner\n",
      "quick      ADJ        JJ         adjective (English), other noun-modifier (Chinese)\n",
      "brown      ADJ        JJ         adjective (English), other noun-modifier (Chinese)\n",
      "fox        NOUN       NN         noun, singular or mass\n",
      "jumped     VERB       VBD        verb, past tense\n",
      "over       ADP        IN         conjunction, subordinating or preposition\n",
      "the        DET        DT         determiner\n",
      "lazy       ADJ        JJ         adjective (English), other noun-modifier (Chinese)\n",
      "dog        NOUN       NN         noun, singular or mass\n",
      "'s         PART       POS        possessive ending\n",
      "back       NOUN       NN         noun, singular or mass\n"
     ]
    }
   ],
   "source": [
    "# get details of each token in doc\n",
    "for token in doc:\n",
    "    print(f\"{token.text:{10}} {token.pos_:{10}} {token.tag_:{10}} {spacy.explain(token.tag_):{10}}\")"
   ]
  },
  {
   "cell_type": "code",
   "execution_count": 17,
   "metadata": {},
   "outputs": [
    {
     "name": "stdout",
     "output_type": "stream",
     "text": [
      "read       VERB       VBP        verb, non-3rd person singular present\n",
      "read       VERB       VBD        verb, past tense\n"
     ]
    }
   ],
   "source": [
    "#same token can have different meanings\n",
    "\n",
    "doc = nlp(u\"I read books on NLP.\")\n",
    "doc_2 = nlp(u'I read a book on NLP.')\n",
    "\n",
    "token = doc[1]\n",
    "token_2 = doc_2[1]\n",
    "\n",
    "print(f\"{token.text:{10}} {token.pos_:{10}} {token.tag_:{10}} {spacy.explain(token.tag_):{10}}\")\n",
    "print(f\"{token_2.text:{10}} {token_2.pos_:{10}} {token_2.tag_:{10}} {spacy.explain(token_2.tag_):{10}}\")"
   ]
  },
  {
   "cell_type": "code",
   "execution_count": 18,
   "metadata": {},
   "outputs": [
    {
     "name": "stdout",
     "output_type": "stream",
     "text": [
      "{90: 2, 84: 3, 92: 3, 100: 1, 85: 1, 94: 1}\n"
     ]
    }
   ],
   "source": [
    "#get parts of speech count as a dictionary object\n",
    "doc = nlp(u'The quick brown fox jumped over the lazy dog\\'s back')\n",
    "POS_counts = doc.count_by(spacy.attrs.POS)\n",
    "print(POS_counts)"
   ]
  },
  {
   "cell_type": "code",
   "execution_count": 25,
   "metadata": {},
   "outputs": [
    {
     "data": {
      "text/plain": [
       "'VERB'"
      ]
     },
     "execution_count": 25,
     "metadata": {},
     "output_type": "execute_result"
    }
   ],
   "source": [
    "#check text for numerical identifiers\n",
    "doc.vocab[100].text"
   ]
  },
  {
   "cell_type": "code",
   "execution_count": 26,
   "metadata": {},
   "outputs": [
    {
     "data": {
      "text/plain": [
       "84"
      ]
     },
     "execution_count": 26,
     "metadata": {},
     "output_type": "execute_result"
    }
   ],
   "source": [
    "doc[2].pos"
   ]
  },
  {
   "cell_type": "code",
   "execution_count": 31,
   "metadata": {},
   "outputs": [
    {
     "name": "stdout",
     "output_type": "stream",
     "text": [
      "   84. ADJ    3\n",
      "   85. ADP    1\n",
      "   90. DET    2\n",
      "   92. NOUN   3\n",
      "   94. PART   1\n",
      "  100. VERB   1\n"
     ]
    }
   ],
   "source": [
    "# create frequency list of pos \n",
    "for k,v in sorted(POS_counts.items()):\n",
    "    print(f\"{k:{5}}. {doc.vocab[k].text:{5}} {v:{2}}\")"
   ]
  },
  {
   "cell_type": "code",
   "execution_count": 32,
   "metadata": {},
   "outputs": [
    {
     "name": "stdout",
     "output_type": "stream",
     "text": [
      "{415: 2, 402: 3, 429: 1, 8206900633647566924: 1, 443: 1, 439: 1, 8110129090154140942: 1, 400: 1}\n",
      "400. advmod  1\n",
      "402. amod   3\n",
      "415. det    2\n",
      "429. nsubj  1\n",
      "439. pobj   1\n",
      "443. prep   1\n",
      "8110129090154140942. case   1\n",
      "8206900633647566924. ROOT   1\n"
     ]
    }
   ],
   "source": [
    "#syntactic dependency\n",
    "\n",
    "DEP_counts = doc.count_by(spacy.attrs.DEP)\n",
    "print(DEP_counts)\n",
    "for k,v in sorted(DEP_counts.items()):\n",
    "    print(f\"{k}. {doc.vocab[k].text:{5}} {v:{2}}\")"
   ]
  }
 ],
 "metadata": {
  "kernelspec": {
   "display_name": "Python 3",
   "language": "python",
   "name": "python3"
  },
  "language_info": {
   "codemirror_mode": {
    "name": "ipython",
    "version": 3
   },
   "file_extension": ".py",
   "mimetype": "text/x-python",
   "name": "python",
   "nbconvert_exporter": "python",
   "pygments_lexer": "ipython3",
   "version": "3.10.2"
  },
  "orig_nbformat": 4
 },
 "nbformat": 4,
 "nbformat_minor": 2
}
