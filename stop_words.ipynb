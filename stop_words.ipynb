{
 "cells": [
  {
   "cell_type": "code",
   "execution_count": 1,
   "metadata": {},
   "outputs": [],
   "source": [
    "import spacy\n",
    "nlp = spacy.load('en_core_web_sm')"
   ]
  },
  {
   "cell_type": "code",
   "execution_count": 3,
   "metadata": {},
   "outputs": [
    {
     "name": "stdout",
     "output_type": "stream",
     "text": [
      "{'when', 'why', 'within', 'were', 'besides', 'eight', '‘re', 'between', 'moreover', 'seem', 'side', 'alone', 'forty', 'that', 'ever', 'for', 'behind', 'others', 'whither', 'beside', 'herself', 'with', 'across', 'please', 'everywhere', 'latterly', 'ourselves', 'someone', 'last', 'twelve', 'whoever', 'become', 'under', 'thus', 'was', 'on', 'the', 'over', 'whom', 'herein', 'whereupon', 'elsewhere', 'might', 'fifteen', 'anything', 'beyond', \"'ll\", 'mostly', 'upon', 'some', 'as', 'any', 'myself', 'must', 'is', 'towards', 'per', 'put', '‘d', 'call', 'because', 'and', '‘ll', 'before', 'they', 'became', 'could', 'throughout', 'had', 'does', 'whence', 'least', 'noone', 'since', 'have', 'none', 'through', 'those', 'toward', 'mine', 'seemed', 'via', 'whenever', 'less', 'to', 'next', 'name', 'of', 'meanwhile', 'though', 'my', 'she', 'still', 'a', 'no', 'are', 'sometime', 'hundred', 'down', 'itself', 'move', 'out', '’s', 'whether', 'being', 'done', 'whereas', 'thence', 'into', 'beforehand', 'above', 'whatever', 'therein', 'then', 'them', 'say', 'yours', 'two', 'too', 'using', 'keep', 'can', 'get', 'from', 'her', 'been', 'although', 'quite', 'it', 'five', 'whereafter', 'front', 'sixty', 'has', 'another', 'who', 'only', 'his', 'nor', 'really', 'there', 'something', 'once', 'various', 'top', 'take', 'both', 'thereby', 'other', 'yet', 'sometimes', 'which', 'without', 'we', 'much', '’ll', 'together', \"n't\", 'made', 'everything', '’re', 'formerly', 'n’t', 'he', 'along', 'off', 'few', 'becoming', 'by', 'back', 'be', 'in', 'somewhere', 'an', 'often', 'than', 'us', 'make', 'except', 'serious', '‘ve', 'did', \"'re\", 'should', 'these', 'thereafter', 'what', 'one', '’d', 'give', 'wherein', 'everyone', 'somehow', 'ten', 'hers', 'further', 'nothing', '‘s', 'go', 'fifty', 'due', 'whole', 'its', 'therefore', 'several', 'full', 'never', 'i', 'am', 're', 'ca', \"'ve\", 'very', 'unless', 'their', 'show', 'else', 'would', 'about', \"'s\", 'such', 'nine', 'afterwards', 'onto', 'anywhere', 'among', 'yourselves', 'anyone', 'doing', 'may', 'hereafter', 'twenty', 'most', 'three', 'almost', 'perhaps', 'third', 'anyway', 'all', 'empty', 'six', 'your', 'otherwise', 'however', 'indeed', 'nobody', 'just', 'themselves', 'rather', 'will', 'every', 'part', 'nowhere', 'latter', 'eleven', 'yourself', 'n‘t', 'four', 'so', 'this', 'during', 'used', 'always', 'if', '’ve', 'becomes', 'wherever', 'each', 'thereupon', 'where', 'at', 'me', 'own', 'up', 'do', 'regarding', 'here', 'hence', 'neither', 'him', 'see', 'now', 'even', 'already', 'whereby', 'after', 'also', 'seeming', 'himself', 'until', '’m', 'namely', 'bottom', 'more', 'ours', 'amount', 'not', 'hereupon', 'well', 'enough', 'former', 'below', 'either', 'but', 'around', 'anyhow', 'again', 'hereby', 'cannot', 'first', 'against', 'same', 'while', 'or', 'thru', \"'d\", 'amongst', 'many', \"'m\", 'our', '‘m', 'nevertheless', 'you', 'how', 'whose', 'seems'}\n"
     ]
    }
   ],
   "source": [
    "#Built-in stop words\n",
    "\n",
    "print(nlp.Defaults.stop_words)"
   ]
  },
  {
   "cell_type": "code",
   "execution_count": 4,
   "metadata": {},
   "outputs": [
    {
     "name": "stdout",
     "output_type": "stream",
     "text": [
      "326\n"
     ]
    }
   ],
   "source": [
    "print(len(nlp.Defaults.stop_words))"
   ]
  },
  {
   "cell_type": "code",
   "execution_count": 5,
   "metadata": {},
   "outputs": [
    {
     "data": {
      "text/plain": [
       "True"
      ]
     },
     "execution_count": 5,
     "metadata": {},
     "output_type": "execute_result"
    }
   ],
   "source": [
    "#check stop word\n",
    "nlp.vocab['is'].is_stop"
   ]
  },
  {
   "cell_type": "code",
   "execution_count": 6,
   "metadata": {},
   "outputs": [
    {
     "data": {
      "text/plain": [
       "False"
      ]
     },
     "execution_count": 6,
     "metadata": {},
     "output_type": "execute_result"
    }
   ],
   "source": [
    "nlp.vocab['mystery'].is_stop"
   ]
  },
  {
   "cell_type": "code",
   "execution_count": 7,
   "metadata": {},
   "outputs": [],
   "source": [
    "#add any word in default stop words\n",
    "nlp.Defaults.stop_words.add('btw')"
   ]
  },
  {
   "cell_type": "code",
   "execution_count": 8,
   "metadata": {},
   "outputs": [
    {
     "data": {
      "text/plain": [
       "True"
      ]
     },
     "execution_count": 8,
     "metadata": {},
     "output_type": "execute_result"
    }
   ],
   "source": [
    "nlp.vocab['btw'].is_stop"
   ]
  },
  {
   "cell_type": "code",
   "execution_count": 9,
   "metadata": {},
   "outputs": [
    {
     "data": {
      "text/plain": [
       "327"
      ]
     },
     "execution_count": 9,
     "metadata": {},
     "output_type": "execute_result"
    }
   ],
   "source": [
    "len(nlp.Defaults.stop_words)"
   ]
  },
  {
   "cell_type": "code",
   "execution_count": 10,
   "metadata": {},
   "outputs": [],
   "source": [
    "#remove any word from default stop words\n",
    "nlp.Defaults.stop_words.remove('beyond')"
   ]
  },
  {
   "cell_type": "code",
   "execution_count": 11,
   "metadata": {},
   "outputs": [
    {
     "data": {
      "text/plain": [
       "False"
      ]
     },
     "execution_count": 11,
     "metadata": {},
     "output_type": "execute_result"
    }
   ],
   "source": [
    "nlp.vocab['beyond'].is_stop"
   ]
  },
  {
   "cell_type": "code",
   "execution_count": 12,
   "metadata": {},
   "outputs": [
    {
     "data": {
      "text/plain": [
       "326"
      ]
     },
     "execution_count": 12,
     "metadata": {},
     "output_type": "execute_result"
    }
   ],
   "source": [
    "len(nlp.Defaults.stop_words)"
   ]
  }
 ],
 "metadata": {
  "kernelspec": {
   "display_name": "Python 3",
   "language": "python",
   "name": "python3"
  },
  "language_info": {
   "codemirror_mode": {
    "name": "ipython",
    "version": 3
   },
   "file_extension": ".py",
   "mimetype": "text/x-python",
   "name": "python",
   "nbconvert_exporter": "python",
   "pygments_lexer": "ipython3",
   "version": "3.10.2"
  },
  "orig_nbformat": 4
 },
 "nbformat": 4,
 "nbformat_minor": 2
}
