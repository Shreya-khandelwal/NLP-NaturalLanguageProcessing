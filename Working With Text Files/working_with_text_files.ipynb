{
 "cells": [
  {
   "cell_type": "code",
   "execution_count": 20,
   "metadata": {},
   "outputs": [
    {
     "name": "stdout",
     "output_type": "stream",
     "text": [
      "My name is shreya\n",
      "My name is shreya\n"
     ]
    }
   ],
   "source": [
    "person = \"shreya\"\n",
    "\n",
    "# Using the old .format() method:\n",
    "print(\"My name is {}\".format(person))\n",
    "\n",
    "# Using f-strings:\n",
    "print(f\"My name is {person}\")   "
   ]
  },
  {
   "cell_type": "code",
   "execution_count": 13,
   "metadata": {},
   "outputs": [
    {
     "name": "stdout",
     "output_type": "stream",
     "text": [
      "my number is 123\n"
     ]
    }
   ],
   "source": [
    "d = {'a':123, 'b':456}\n",
    "print(f\"my number is {d['a']}\")"
   ]
  },
  {
   "cell_type": "code",
   "execution_count": 14,
   "metadata": {},
   "outputs": [
    {
     "name": "stdout",
     "output_type": "stream",
     "text": [
      "my list number is 1\n"
     ]
    }
   ],
   "source": [
    "mylist = [0,1,2]\n",
    "print(f\"my list number is {mylist[1]}\")"
   ]
  },
  {
   "cell_type": "code",
   "execution_count": 21,
   "metadata": {},
   "outputs": [],
   "source": [
    "library = [('Author', 'Topic', 'Pages'),('Twain', 'Rafting', 601),('Feynman', 'Physics', 95),('Hamilton', 'Mythology', 144)]"
   ]
  },
  {
   "cell_type": "code",
   "execution_count": 22,
   "metadata": {},
   "outputs": [
    {
     "name": "stdout",
     "output_type": "stream",
     "text": [
      "('Author', 'Topic', 'Pages')\n",
      "page number count is Pages\n",
      "('Twain', 'Rafting', 601)\n",
      "page number count is 601\n",
      "('Feynman', 'Physics', 95)\n",
      "page number count is 95\n",
      "('Hamilton', 'Mythology', 144)\n",
      "page number count is 144\n"
     ]
    }
   ],
   "source": [
    "for books in library:\n",
    "    print(books)\n",
    "    print(f\"page number count is {books[2]}\")"
   ]
  },
  {
   "cell_type": "code",
   "execution_count": 25,
   "metadata": {},
   "outputs": [
    {
     "name": "stdout",
     "output_type": "stream",
     "text": [
      "Topic Author Pages\n",
      "Rafting Twain 601\n",
      "Physics Feynman 95\n",
      "Mythology Hamilton 144\n"
     ]
    }
   ],
   "source": [
    "for authors,topics,pages in library:\n",
    "    print(f\"{topics} {authors} {pages}\")"
   ]
  },
  {
   "cell_type": "code",
   "execution_count": 27,
   "metadata": {},
   "outputs": [
    {
     "name": "stdout",
     "output_type": "stream",
     "text": [
      "Author     Topic      ..Pages\n",
      "Twain      Rafting    ....601\n",
      "Feynman    Physics    .....95\n",
      "Hamilton   Mythology  ....144\n"
     ]
    }
   ],
   "source": [
    "# formatting : number of spaces\n",
    "for authors,topics,pages in library:\n",
    "    print(f\"{authors:{10}} {topics:{10}} {pages:.>{7}}\")"
   ]
  },
  {
   "cell_type": "code",
   "execution_count": 30,
   "metadata": {},
   "outputs": [
    {
     "name": "stdout",
     "output_type": "stream",
     "text": [
      "2019-08-04 00:00:00\n",
      "August 04 2019\n"
     ]
    }
   ],
   "source": [
    "from datetime import datetime\n",
    "today = datetime(year=2019, month=8, day=4)\n",
    "print(today)\n",
    "print(f\"{today:%B %d %Y}\")"
   ]
  }
 ],
 "metadata": {
  "kernelspec": {
   "display_name": "Python 3",
   "language": "python",
   "name": "python3"
  },
  "language_info": {
   "codemirror_mode": {
    "name": "ipython",
    "version": 3
   },
   "file_extension": ".py",
   "mimetype": "text/x-python",
   "name": "python",
   "nbconvert_exporter": "python",
   "pygments_lexer": "ipython3",
   "version": "3.10.2"
  },
  "orig_nbformat": 4
 },
 "nbformat": 4,
 "nbformat_minor": 2
}
