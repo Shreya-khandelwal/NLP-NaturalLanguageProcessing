{
 "cells": [
  {
   "cell_type": "code",
   "execution_count": 35,
   "metadata": {},
   "outputs": [],
   "source": [
    "import spacy"
   ]
  },
  {
   "cell_type": "code",
   "execution_count": 36,
   "metadata": {},
   "outputs": [],
   "source": [
    "nlp = spacy.load('en_core_web_lg')"
   ]
  },
  {
   "cell_type": "code",
   "execution_count": 37,
   "metadata": {},
   "outputs": [
    {
     "data": {
      "text/plain": [
       "(300,)"
      ]
     },
     "execution_count": 37,
     "metadata": {},
     "output_type": "execute_result"
    }
   ],
   "source": [
    "nlp(u'the quick brown fox jumped').vector.shape"
   ]
  },
  {
   "cell_type": "code",
   "execution_count": 38,
   "metadata": {},
   "outputs": [
    {
     "data": {
      "text/plain": [
       "(300,)"
      ]
     },
     "execution_count": 38,
     "metadata": {},
     "output_type": "execute_result"
    }
   ],
   "source": [
    "nlp(u'fox').vector.shape"
   ]
  },
  {
   "cell_type": "code",
   "execution_count": 39,
   "metadata": {},
   "outputs": [],
   "source": [
    "def similarity_check(tokens):\n",
    "    for token1 in tokens:\n",
    "        for token2 in tokens:\n",
    "            print(token1.text, token2.text, token1.similarity(token2))"
   ]
  },
  {
   "cell_type": "code",
   "execution_count": 40,
   "metadata": {},
   "outputs": [
    {
     "name": "stdout",
     "output_type": "stream",
     "text": [
      "lion lion 1.0\n",
      "lion cat 0.3854507803916931\n",
      "lion pet 0.20031584799289703\n",
      "cat lion 0.3854507803916931\n",
      "cat cat 1.0\n",
      "cat pet 0.732966423034668\n",
      "pet lion 0.20031584799289703\n",
      "pet cat 0.732966423034668\n",
      "pet pet 1.0\n"
     ]
    }
   ],
   "source": [
    "tokens = nlp(u'lion cat pet')\n",
    "similarity_check(tokens)"
   ]
  },
  {
   "cell_type": "code",
   "execution_count": 41,
   "metadata": {},
   "outputs": [
    {
     "name": "stdout",
     "output_type": "stream",
     "text": [
      "like like 1.0\n",
      "like love 0.5212638974189758\n",
      "like hate 0.5065141320228577\n",
      "love like 0.5212638974189758\n",
      "love love 1.0\n",
      "love hate 0.5708349943161011\n",
      "hate like 0.5065141320228577\n",
      "hate love 0.5708349943161011\n",
      "hate hate 1.0\n"
     ]
    }
   ],
   "source": [
    "tokens = nlp(u'like love hate')\n",
    "similarity_check(tokens)\n"
   ]
  },
  {
   "cell_type": "code",
   "execution_count": 42,
   "metadata": {},
   "outputs": [
    {
     "data": {
      "text/plain": [
       "514157"
      ]
     },
     "execution_count": 42,
     "metadata": {},
     "output_type": "execute_result"
    }
   ],
   "source": [
    "len(nlp.vocab.vectors)"
   ]
  },
  {
   "cell_type": "code",
   "execution_count": 43,
   "metadata": {},
   "outputs": [
    {
     "data": {
      "text/plain": [
       "(514157, 300)"
      ]
     },
     "execution_count": 43,
     "metadata": {},
     "output_type": "execute_result"
    }
   ],
   "source": [
    "nlp.vocab.vectors.shape"
   ]
  },
  {
   "cell_type": "code",
   "execution_count": 44,
   "metadata": {},
   "outputs": [
    {
     "name": "stdout",
     "output_type": "stream",
     "text": [
      "dog True 75.254234 False\n",
      "cat True 63.188496 False\n",
      "nargle False 0.0 True\n"
     ]
    }
   ],
   "source": [
    "tokens = nlp(u'dog cat nargle')\n",
    "for token in tokens:\n",
    "    print(token.text, token.has_vector, token.vector_norm, token.is_oov)"
   ]
  },
  {
   "cell_type": "code",
   "execution_count": 45,
   "metadata": {},
   "outputs": [],
   "source": [
    "#arithmetic on vectors\n",
    "from scipy import spatial"
   ]
  },
  {
   "cell_type": "code",
   "execution_count": 46,
   "metadata": {},
   "outputs": [],
   "source": [
    "cosine_similarity = lambda vec1, vec2: 1-spatial.distance.cosine(vec1, vec2)"
   ]
  },
  {
   "cell_type": "code",
   "execution_count": 47,
   "metadata": {},
   "outputs": [],
   "source": [
    "king = nlp.vocab['king'].vector\n",
    "man = nlp.vocab['man'].vector\n",
    "woman = nlp.vocab['woman'].vector"
   ]
  },
  {
   "cell_type": "code",
   "execution_count": 48,
   "metadata": {},
   "outputs": [],
   "source": [
    "# king - man + woman -------> new vector similar to queen, princess, highness\n",
    "new_vector = king-man+woman\n",
    "\n",
    "computed_similarity = []\n",
    "\n",
    "#for all words in vocab\n",
    "for word in nlp.vocab:\n",
    "    if word.has_vector:\n",
    "        if word.is_lower:\n",
    "            if word.is_alpha:\n",
    "                similarity = cosine_similarity(new_vector, word.vector)\n",
    "                computed_similarity.append((word,similarity))\n"
   ]
  },
  {
   "cell_type": "code",
   "execution_count": 51,
   "metadata": {},
   "outputs": [],
   "source": [
    "computed_similarity = sorted(computed_similarity, key=lambda item:-item[1])"
   ]
  },
  {
   "cell_type": "code",
   "execution_count": 54,
   "metadata": {},
   "outputs": [
    {
     "name": "stdout",
     "output_type": "stream",
     "text": [
      "[(<spacy.lexeme.Lexeme object at 0x00000236B1FD8180>, 0.8489541411399841), (<spacy.lexeme.Lexeme object at 0x00000236B1FD81C0>, 0.39655405282974243), (<spacy.lexeme.Lexeme object at 0x00000236B1FD9AC0>, 0.3899005055427551), (<spacy.lexeme.Lexeme object at 0x00000236B1FD97C0>, 0.38483577966690063), (<spacy.lexeme.Lexeme object at 0x00000236F47AA0C0>, 0.3385923206806183), (<spacy.lexeme.Lexeme object at 0x00000236B1FDA5C0>, 0.32445624470710754), (<spacy.lexeme.Lexeme object at 0x00000236B1FDA0C0>, 0.3206636309623718), (<spacy.lexeme.Lexeme object at 0x00000236B1FD9D40>, 0.30994713306427), (<spacy.lexeme.Lexeme object at 0x00000236B1FD9C40>, 0.30542072653770447), (<spacy.lexeme.Lexeme object at 0x00000236B1FDB400>, 0.29837310314178467), (<spacy.lexeme.Lexeme object at 0x00000236F47AB300>, 0.29441288113594055), (<spacy.lexeme.Lexeme object at 0x000002369B846400>, 0.2928425371646881), (<spacy.lexeme.Lexeme object at 0x00000236B1FDAE80>, 0.2926899194717407), (<spacy.lexeme.Lexeme object at 0x00000236B1FDB140>, 0.2898596227169037), (<spacy.lexeme.Lexeme object at 0x00000236F47A8EC0>, 0.2833782136440277), (<spacy.lexeme.Lexeme object at 0x00000236B1FDAC80>, 0.283033549785614), (<spacy.lexeme.Lexeme object at 0x00000236F47AAD40>, 0.26955559849739075), (<spacy.lexeme.Lexeme object at 0x00000236B1FDA8C0>, 0.26932212710380554), (<spacy.lexeme.Lexeme object at 0x00000236B1FD9740>, 0.266380250453949), (<spacy.lexeme.Lexeme object at 0x00000236B1FD9580>, 0.25798389315605164), (<spacy.lexeme.Lexeme object at 0x00000236B1FD8E00>, 0.2465803474187851), (<spacy.lexeme.Lexeme object at 0x00000236F47AB700>, 0.2416202425956726), (<spacy.lexeme.Lexeme object at 0x00000236B1FDAD80>, 0.24003535509109497), (<spacy.lexeme.Lexeme object at 0x00000236B1FDA780>, 0.23080326616764069), (<spacy.lexeme.Lexeme object at 0x00000236B1FDAD00>, 0.2254330962896347), (<spacy.lexeme.Lexeme object at 0x00000236B1FDA800>, 0.22187210619449615), (<spacy.lexeme.Lexeme object at 0x00000236B1FD9C80>, 0.21815316379070282), (<spacy.lexeme.Lexeme object at 0x00000236BAC5C740>, 0.21393075585365295), (<spacy.lexeme.Lexeme object at 0x00000236B1FDA500>, 0.2121567577123642), (<spacy.lexeme.Lexeme object at 0x00000236B1FD9F00>, 0.2090519368648529), (<spacy.lexeme.Lexeme object at 0x00000236B1FD8640>, 0.20415686070919037), (<spacy.lexeme.Lexeme object at 0x00000236B1FD9C00>, 0.20185594260692596), (<spacy.lexeme.Lexeme object at 0x00000236B1FDA900>, 0.20116958022117615), (<spacy.lexeme.Lexeme object at 0x00000236AF122FC0>, 0.19990698993206024), (<spacy.lexeme.Lexeme object at 0x00000236B1FDB100>, 0.19644013047218323), (<spacy.lexeme.Lexeme object at 0x00000236B1FDBCC0>, 0.18580730259418488), (<spacy.lexeme.Lexeme object at 0x00000236B1FD9500>, 0.181433767080307), (<spacy.lexeme.Lexeme object at 0x00000236B1FD98C0>, 0.1793898493051529), (<spacy.lexeme.Lexeme object at 0x00000236F47ABA40>, 0.17656052112579346), (<spacy.lexeme.Lexeme object at 0x00000236B1FD8F40>, 0.17220371961593628), (<spacy.lexeme.Lexeme object at 0x00000236B1FD99C0>, 0.16010816395282745), (<spacy.lexeme.Lexeme object at 0x00000236B1FD9F40>, 0.15490320324897766), (<spacy.lexeme.Lexeme object at 0x00000236B1FD95C0>, 0.13670341670513153), (<spacy.lexeme.Lexeme object at 0x00000236B1FDAB80>, 0.13091273605823517), (<spacy.lexeme.Lexeme object at 0x00000236B1FD9DC0>, 0.12557661533355713), (<spacy.lexeme.Lexeme object at 0x00000236BAC5C9C0>, 0.12013807147741318), (<spacy.lexeme.Lexeme object at 0x00000236B1FD8080>, 0.10698670893907547), (<spacy.lexeme.Lexeme object at 0x00000236F47AA480>, 0.10431993752717972), (<spacy.lexeme.Lexeme object at 0x00000236F47A9E40>, 0.10000677406787872), (<spacy.lexeme.Lexeme object at 0x00000236B1FD9480>, 0.09778809547424316), (<spacy.lexeme.Lexeme object at 0x00000236B1FD9840>, 0.08244204521179199), (<spacy.lexeme.Lexeme object at 0x00000236B1FD9B40>, 0.07339465618133545), (<spacy.lexeme.Lexeme object at 0x00000236B1FDA740>, 0.07244130969047546), (<spacy.lexeme.Lexeme object at 0x00000236B1FDBA80>, 0.0719887912273407), (<spacy.lexeme.Lexeme object at 0x00000236B1FDA840>, 0.07003621011972427), (<spacy.lexeme.Lexeme object at 0x00000236B1FD9640>, 0.06565330177545547), (<spacy.lexeme.Lexeme object at 0x00000236B1FD8A80>, 0.06257739663124084), (<spacy.lexeme.Lexeme object at 0x00000236B1FDAA40>, 0.0622316375374794), (<spacy.lexeme.Lexeme object at 0x00000236B1FD9D80>, 0.061639439314603806), (<spacy.lexeme.Lexeme object at 0x00000236B1FD9800>, 0.061372771859169006), (<spacy.lexeme.Lexeme object at 0x00000236B1FD9A00>, 0.05999797582626343), (<spacy.lexeme.Lexeme object at 0x00000236B1FD9B80>, 0.05524952709674835), (<spacy.lexeme.Lexeme object at 0x00000236B1FD8980>, 0.054689355194568634), (<spacy.lexeme.Lexeme object at 0x00000236B5EE3340>, 0.05038555711507797), (<spacy.lexeme.Lexeme object at 0x00000236F4A34E80>, 0.03642822802066803), (<spacy.lexeme.Lexeme object at 0x00000236B1FD9440>, 0.03469546511769295), (<spacy.lexeme.Lexeme object at 0x00000236B1FD9700>, 0.03319096937775612), (<spacy.lexeme.Lexeme object at 0x00000236B1FD8700>, 0.03249751776456833), (<spacy.lexeme.Lexeme object at 0x00000236B1FD9B00>, 0.029356814920902252), (<spacy.lexeme.Lexeme object at 0x00000236B1FDBEC0>, 0.02749769762158394), (<spacy.lexeme.Lexeme object at 0x00000236B1FD9D00>, 0.0261156614869833), (<spacy.lexeme.Lexeme object at 0x00000236B1FDA980>, 0.022534290328621864), (<spacy.lexeme.Lexeme object at 0x00000236F4A37BC0>, 0.021381396800279617), (<spacy.lexeme.Lexeme object at 0x00000236BAC5C340>, 0.017747921869158745), (<spacy.lexeme.Lexeme object at 0x00000236B1FDBD00>, 0.017566954717040062), (<spacy.lexeme.Lexeme object at 0x00000236F47A93C0>, 0.016177993267774582), (<spacy.lexeme.Lexeme object at 0x00000236B1FD9900>, 0.01613551378250122), (<spacy.lexeme.Lexeme object at 0x00000236B1FD9E80>, 0.014911837875843048), (<spacy.lexeme.Lexeme object at 0x00000236B1FD8D00>, 0.01251276396214962), (<spacy.lexeme.Lexeme object at 0x00000236F47AB400>, 0.008380548097193241), (<spacy.lexeme.Lexeme object at 0x00000236B1FDB280>, 0.0066097755916416645), (<spacy.lexeme.Lexeme object at 0x00000236F4A35400>, 0.005720385815948248), (<spacy.lexeme.Lexeme object at 0x00000236B1FDA100>, 0.004759781062602997), (<spacy.lexeme.Lexeme object at 0x00000236F47A9080>, 0.004386077634990215), (<spacy.lexeme.Lexeme object at 0x00000236B1FDA200>, 0.0009621680364944041), (<spacy.lexeme.Lexeme object at 0x00000236B5EE1200>, -0.001242928672581911), (<spacy.lexeme.Lexeme object at 0x00000236B1FD9940>, -0.001569278072565794), (<spacy.lexeme.Lexeme object at 0x00000236B1FD9980>, -0.0031983337830752134), (<spacy.lexeme.Lexeme object at 0x00000236B1FD8D40>, -0.0035099152009934187), (<spacy.lexeme.Lexeme object at 0x00000236F47AB740>, -0.007181430701166391), (<spacy.lexeme.Lexeme object at 0x00000236B1FD9FC0>, -0.007245962042361498), (<spacy.lexeme.Lexeme object at 0x00000236F47AB8C0>, -0.010682614520192146), (<spacy.lexeme.Lexeme object at 0x00000236B1FDAF80>, -0.01189793273806572), (<spacy.lexeme.Lexeme object at 0x00000236B1FD9240>, -0.013968191109597683), (<spacy.lexeme.Lexeme object at 0x00000236B1FDB680>, -0.0174685250967741), (<spacy.lexeme.Lexeme object at 0x00000236B1FDAE40>, -0.022200554609298706), (<spacy.lexeme.Lexeme object at 0x00000236F47A9300>, -0.03126813471317291), (<spacy.lexeme.Lexeme object at 0x00000236B1FDA640>, -0.04106904938817024), (<spacy.lexeme.Lexeme object at 0x00000236B1FDBA40>, -0.04508766159415245), (<spacy.lexeme.Lexeme object at 0x00000236B1FD9E40>, -0.04832000285387039), (<spacy.lexeme.Lexeme object at 0x00000236B1FDA680>, -0.06810466200113297), (<spacy.lexeme.Lexeme object at 0x00000236B1FD8C40>, -0.07287076115608215), (<spacy.lexeme.Lexeme object at 0x00000236B1FDA000>, -0.07636149227619171), (<spacy.lexeme.Lexeme object at 0x00000236B1FD9880>, -0.07872253656387329), (<spacy.lexeme.Lexeme object at 0x00000236B1FDB380>, -0.08220101147890091), (<spacy.lexeme.Lexeme object at 0x00000236B1FDBC40>, -0.08385646343231201), (<spacy.lexeme.Lexeme object at 0x00000236B1FD84C0>, -0.08980458229780197), (<spacy.lexeme.Lexeme object at 0x00000236B1FDA040>, -0.0951840877532959), (<spacy.lexeme.Lexeme object at 0x00000236B1FDBA00>, -0.10074420273303986), (<spacy.lexeme.Lexeme object at 0x00000236B5EE2580>, -0.1028217151761055), (<spacy.lexeme.Lexeme object at 0x00000236B1FD9680>, -0.12722618877887726), (<spacy.lexeme.Lexeme object at 0x00000236B1FD9A40>, -0.1318208873271942), (<spacy.lexeme.Lexeme object at 0x00000236B1FD8480>, -0.14137345552444458), (<spacy.lexeme.Lexeme object at 0x00000236B1FD9A80>, -0.14783941209316254), (<spacy.lexeme.Lexeme object at 0x00000236B1FDADC0>, -0.20390625298023224), (<spacy.lexeme.Lexeme object at 0x00000236B1FDB040>, -0.20889312028884888), (<spacy.lexeme.Lexeme object at 0x00000236B5EE2B00>, -0.21016256511211395), (<spacy.lexeme.Lexeme object at 0x00000236B1FDB980>, -0.2223987877368927)]\n"
     ]
    }
   ],
   "source": [
    "print(computed_similarity)"
   ]
  },
  {
   "cell_type": "code",
   "execution_count": 50,
   "metadata": {},
   "outputs": [
    {
     "name": "stdout",
     "output_type": "stream",
     "text": [
      "['king', 'the', 'and', 'that', 'where', 'she', 'they', 'woman', 'there', 'should']\n"
     ]
    }
   ],
   "source": [
    "print([t[0].text for t in computed_similarity[:10]])"
   ]
  },
  {
   "cell_type": "code",
   "execution_count": null,
   "metadata": {},
   "outputs": [],
   "source": []
  },
  {
   "cell_type": "code",
   "execution_count": null,
   "metadata": {},
   "outputs": [],
   "source": []
  }
 ],
 "metadata": {
  "kernelspec": {
   "display_name": "Python 3",
   "language": "python",
   "name": "python3"
  },
  "language_info": {
   "codemirror_mode": {
    "name": "ipython",
    "version": 3
   },
   "file_extension": ".py",
   "mimetype": "text/x-python",
   "name": "python",
   "nbconvert_exporter": "python",
   "pygments_lexer": "ipython3",
   "version": "3.10.2"
  },
  "orig_nbformat": 4
 },
 "nbformat": 4,
 "nbformat_minor": 2
}
