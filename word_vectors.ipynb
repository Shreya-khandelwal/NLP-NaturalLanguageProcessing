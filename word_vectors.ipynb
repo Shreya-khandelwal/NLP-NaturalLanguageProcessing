{
 "cells": [
  {
   "cell_type": "code",
   "execution_count": 1,
   "metadata": {},
   "outputs": [
    {
     "name": "stderr",
     "output_type": "stream",
     "text": [
      "c:\\Python310\\lib\\site-packages\\tqdm\\auto.py:21: TqdmWarning: IProgress not found. Please update jupyter and ipywidgets. See https://ipywidgets.readthedocs.io/en/stable/user_install.html\n",
      "  from .autonotebook import tqdm as notebook_tqdm\n"
     ]
    }
   ],
   "source": [
    "import spacy"
   ]
  },
  {
   "cell_type": "code",
   "execution_count": 2,
   "metadata": {},
   "outputs": [],
   "source": [
    "nlp = spacy.load('en_core_web_lg')"
   ]
  },
  {
   "cell_type": "code",
   "execution_count": 3,
   "metadata": {},
   "outputs": [
    {
     "data": {
      "text/plain": [
       "(300,)"
      ]
     },
     "execution_count": 3,
     "metadata": {},
     "output_type": "execute_result"
    }
   ],
   "source": [
    "nlp(u'the quick brown fox jumped').vector.shape"
   ]
  },
  {
   "cell_type": "code",
   "execution_count": 4,
   "metadata": {},
   "outputs": [
    {
     "data": {
      "text/plain": [
       "(300,)"
      ]
     },
     "execution_count": 4,
     "metadata": {},
     "output_type": "execute_result"
    }
   ],
   "source": [
    "nlp(u'fox').vector.shape"
   ]
  },
  {
   "cell_type": "code",
   "execution_count": 5,
   "metadata": {},
   "outputs": [],
   "source": [
    "def similarity_check(tokens):\n",
    "    for token1 in tokens:\n",
    "        for token2 in tokens:\n",
    "            print(token1.text, token2.text, token1.similarity(token2))"
   ]
  },
  {
   "cell_type": "code",
   "execution_count": 6,
   "metadata": {},
   "outputs": [
    {
     "name": "stdout",
     "output_type": "stream",
     "text": [
      "lion lion 1.0\n",
      "lion cat 0.3854507803916931\n",
      "lion pet 0.20031584799289703\n",
      "cat lion 0.3854507803916931\n",
      "cat cat 1.0\n",
      "cat pet 0.732966423034668\n",
      "pet lion 0.20031584799289703\n",
      "pet cat 0.732966423034668\n",
      "pet pet 1.0\n"
     ]
    }
   ],
   "source": [
    "tokens = nlp(u'lion cat pet')\n",
    "similarity_check(tokens)"
   ]
  },
  {
   "cell_type": "code",
   "execution_count": 7,
   "metadata": {},
   "outputs": [
    {
     "name": "stdout",
     "output_type": "stream",
     "text": [
      "like like 1.0\n",
      "like love 0.5212638974189758\n",
      "like hate 0.5065141320228577\n",
      "love like 0.5212638974189758\n",
      "love love 1.0\n",
      "love hate 0.5708349943161011\n",
      "hate like 0.5065141320228577\n",
      "hate love 0.5708349943161011\n",
      "hate hate 1.0\n"
     ]
    }
   ],
   "source": [
    "tokens = nlp(u'like love hate')\n",
    "similarity_check(tokens)\n"
   ]
  },
  {
   "cell_type": "code",
   "execution_count": 18,
   "metadata": {},
   "outputs": [
    {
     "data": {
      "text/plain": [
       "514157"
      ]
     },
     "execution_count": 18,
     "metadata": {},
     "output_type": "execute_result"
    }
   ],
   "source": [
    "len(nlp.vocab.vectors)"
   ]
  },
  {
   "cell_type": "code",
   "execution_count": 9,
   "metadata": {},
   "outputs": [
    {
     "data": {
      "text/plain": [
       "(514157, 300)"
      ]
     },
     "execution_count": 9,
     "metadata": {},
     "output_type": "execute_result"
    }
   ],
   "source": [
    "nlp.vocab.vectors.shape"
   ]
  },
  {
   "cell_type": "code",
   "execution_count": 10,
   "metadata": {},
   "outputs": [
    {
     "name": "stdout",
     "output_type": "stream",
     "text": [
      "dog True 75.254234 False\n",
      "cat True 63.188496 False\n",
      "nargle False 0.0 True\n"
     ]
    }
   ],
   "source": [
    "tokens = nlp(u'dog cat nargle')\n",
    "for token in tokens:\n",
    "    print(token.text, token.has_vector, token.vector_norm, token.is_oov)"
   ]
  },
  {
   "cell_type": "code",
   "execution_count": 11,
   "metadata": {},
   "outputs": [],
   "source": [
    "#arithmetic on vectors\n",
    "from scipy import spatial"
   ]
  },
  {
   "cell_type": "code",
   "execution_count": 12,
   "metadata": {},
   "outputs": [],
   "source": [
    "cosine_similarity = lambda vec1, vec2: 1-spatial.distance.cosine(vec1, vec2)"
   ]
  },
  {
   "cell_type": "code",
   "execution_count": 13,
   "metadata": {},
   "outputs": [],
   "source": [
    "king = nlp.vocab['king'].vector\n",
    "man = nlp.vocab['man'].vector\n",
    "woman = nlp.vocab['woman'].vector"
   ]
  },
  {
   "cell_type": "code",
   "execution_count": 14,
   "metadata": {},
   "outputs": [],
   "source": [
    "# king - man + woman -------> new vector similar to queen, princess, highness\n",
    "new_vector = king-man+woman\n",
    "\n",
    "computed_similarity = []\n",
    "\n",
    "#for all words in vocab\n",
    "for word in nlp.vocab:\n",
    "    if word.has_vector:\n",
    "        if word.is_lower:\n",
    "            if word.is_alpha:\n",
    "                similarity = cosine_similarity(new_vector, word.vector)\n",
    "                computed_similarity.append((word,similarity))\n"
   ]
  },
  {
   "cell_type": "code",
   "execution_count": 15,
   "metadata": {},
   "outputs": [],
   "source": [
    "computed_similarity = sorted(computed_similarity, key=lambda item:-item[1])"
   ]
  },
  {
   "cell_type": "code",
   "execution_count": 16,
   "metadata": {},
   "outputs": [
    {
     "name": "stdout",
     "output_type": "stream",
     "text": [
      "[(<spacy.lexeme.Lexeme object at 0x000001F2498B0E00>, 0.8489541411399841), (<spacy.lexeme.Lexeme object at 0x000001F2498B1040>, 0.39655405282974243), (<spacy.lexeme.Lexeme object at 0x000001F2498B23C0>, 0.3899005055427551), (<spacy.lexeme.Lexeme object at 0x000001F2498B20C0>, 0.38483577966690063), (<spacy.lexeme.Lexeme object at 0x000001F24985BC00>, 0.3385923206806183), (<spacy.lexeme.Lexeme object at 0x000001F2498B1A00>, 0.32445624470710754), (<spacy.lexeme.Lexeme object at 0x000001F2498B1540>, 0.3206636309623718), (<spacy.lexeme.Lexeme object at 0x000001F2498B1600>, 0.30994713306427), (<spacy.lexeme.Lexeme object at 0x000001F2498B1700>, 0.30542072653770447), (<spacy.lexeme.Lexeme object at 0x000001F2498B2440>, 0.29837310314178467), (<spacy.lexeme.Lexeme object at 0x000001F2498B03C0>, 0.29441288113594055), (<spacy.lexeme.Lexeme object at 0x000001F2498B0D00>, 0.2928425371646881), (<spacy.lexeme.Lexeme object at 0x000001F2498B1280>, 0.2926899194717407), (<spacy.lexeme.Lexeme object at 0x000001F2498B0E80>, 0.2898596227169037), (<spacy.lexeme.Lexeme object at 0x000001F24985B080>, 0.2833782136440277), (<spacy.lexeme.Lexeme object at 0x000001F2498B1080>, 0.283033549785614), (<spacy.lexeme.Lexeme object at 0x000001F24985A580>, 0.26955559849739075), (<spacy.lexeme.Lexeme object at 0x000001F2498B1C40>, 0.26932212710380554), (<spacy.lexeme.Lexeme object at 0x000001F2498B14C0>, 0.266380250453949), (<spacy.lexeme.Lexeme object at 0x000001F2498B1980>, 0.25798389315605164), (<spacy.lexeme.Lexeme object at 0x000001F2498B11C0>, 0.2465803474187851), (<spacy.lexeme.Lexeme object at 0x000001F2498B0700>, 0.2416202425956726), (<spacy.lexeme.Lexeme object at 0x000001F2498B1300>, 0.24003535509109497), (<spacy.lexeme.Lexeme object at 0x000001F2498B1A80>, 0.23080326616764069), (<spacy.lexeme.Lexeme object at 0x000001F2498B13C0>, 0.2254330962896347), (<spacy.lexeme.Lexeme object at 0x000001F2498B1E00>, 0.22187210619449615), (<spacy.lexeme.Lexeme object at 0x000001F2498B1580>, 0.21815316379070282), (<spacy.lexeme.Lexeme object at 0x000001F24985B840>, 0.21393075585365295), (<spacy.lexeme.Lexeme object at 0x000001F2498B2380>, 0.2121567577123642), (<spacy.lexeme.Lexeme object at 0x000001F2498B1D80>, 0.2090519368648529), (<spacy.lexeme.Lexeme object at 0x000001F2498B12C0>, 0.20415686070919037), (<spacy.lexeme.Lexeme object at 0x000001F2498B19C0>, 0.20185594260692596), (<spacy.lexeme.Lexeme object at 0x000001F2498B1A40>, 0.20116958022117615), (<spacy.lexeme.Lexeme object at 0x000001F244A5C900>, 0.19990698993206024), (<spacy.lexeme.Lexeme object at 0x000001F2498B0F80>, 0.19644013047218323), (<spacy.lexeme.Lexeme object at 0x000001F2498B0F40>, 0.18580730259418488), (<spacy.lexeme.Lexeme object at 0x000001F2498B1CC0>, 0.181433767080307), (<spacy.lexeme.Lexeme object at 0x000001F2498B1900>, 0.1793898493051529), (<spacy.lexeme.Lexeme object at 0x000001F24985B000>, 0.17656052112579346), (<spacy.lexeme.Lexeme object at 0x000001F2498B2480>, 0.17220371961593628), (<spacy.lexeme.Lexeme object at 0x000001F2498B1B80>, 0.16010816395282745), (<spacy.lexeme.Lexeme object at 0x000001F2498B18C0>, 0.15490320324897766), (<spacy.lexeme.Lexeme object at 0x000001F2498B1D00>, 0.13670341670513153), (<spacy.lexeme.Lexeme object at 0x000001F2498B0E40>, 0.13091273605823517), (<spacy.lexeme.Lexeme object at 0x000001F2498B2000>, 0.12557661533355713), (<spacy.lexeme.Lexeme object at 0x000001F2496F3BC0>, 0.12013807147741318), (<spacy.lexeme.Lexeme object at 0x000001F2498B1140>, 0.10698670893907547), (<spacy.lexeme.Lexeme object at 0x000001F24985AD00>, 0.10431993752717972), (<spacy.lexeme.Lexeme object at 0x000001F2497B2C00>, 0.10000677406787872), (<spacy.lexeme.Lexeme object at 0x000001F2498B1C00>, 0.09778809547424316), (<spacy.lexeme.Lexeme object at 0x000001F2498B1F00>, 0.08244204521179199), (<spacy.lexeme.Lexeme object at 0x000001F2498B1740>, 0.07339465618133545), (<spacy.lexeme.Lexeme object at 0x000001F2498B2100>, 0.07244130969047546), (<spacy.lexeme.Lexeme object at 0x000001F2498B10C0>, 0.0719887912273407), (<spacy.lexeme.Lexeme object at 0x000001F2498B1B00>, 0.07003621011972427), (<spacy.lexeme.Lexeme object at 0x000001F2498B1D40>, 0.06565330177545547), (<spacy.lexeme.Lexeme object at 0x000001F2498B1E40>, 0.06257739663124084), (<spacy.lexeme.Lexeme object at 0x000001F2498B0EC0>, 0.0622316375374794), (<spacy.lexeme.Lexeme object at 0x000001F2498B1400>, 0.061639439314603806), (<spacy.lexeme.Lexeme object at 0x000001F2498B2200>, 0.061372771859169006), (<spacy.lexeme.Lexeme object at 0x000001F2498B2040>, 0.05999797582626343), (<spacy.lexeme.Lexeme object at 0x000001F2498B1880>, 0.05524952709674835), (<spacy.lexeme.Lexeme object at 0x000001F2498B22C0>, 0.054689355194568634), (<spacy.lexeme.Lexeme object at 0x000001F2498B0C80>, 0.05038555711507797), (<spacy.lexeme.Lexeme object at 0x000001F2498B0D80>, 0.03642822802066803), (<spacy.lexeme.Lexeme object at 0x000001F2498B1FC0>, 0.03469546511769295), (<spacy.lexeme.Lexeme object at 0x000001F2498B1BC0>, 0.03319096937775612), (<spacy.lexeme.Lexeme object at 0x000001F2498B1180>, 0.03249751776456833), (<spacy.lexeme.Lexeme object at 0x000001F2498B2080>, 0.029356814920902252), (<spacy.lexeme.Lexeme object at 0x000001F2498B15C0>, 0.02749769762158394), (<spacy.lexeme.Lexeme object at 0x000001F2498B2140>, 0.0261156614869833), (<spacy.lexeme.Lexeme object at 0x000001F2498B1DC0>, 0.022534290328621864), (<spacy.lexeme.Lexeme object at 0x000001F2498B0D40>, 0.021381396800279617), (<spacy.lexeme.Lexeme object at 0x000001F24985A100>, 0.017747921869158745), (<spacy.lexeme.Lexeme object at 0x000001F2498B1000>, 0.017566954717040062), (<spacy.lexeme.Lexeme object at 0x000001F2498B0B80>, 0.016177993267774582), (<spacy.lexeme.Lexeme object at 0x000001F2498B1AC0>, 0.01613551378250122), (<spacy.lexeme.Lexeme object at 0x000001F2498B21C0>, 0.014911837875843048), (<spacy.lexeme.Lexeme object at 0x000001F2498B1440>, 0.01251276396214962), (<spacy.lexeme.Lexeme object at 0x000001F24985BE80>, 0.008380548097193241), (<spacy.lexeme.Lexeme object at 0x000001F2498B0F00>, 0.0066097755916416645), (<spacy.lexeme.Lexeme object at 0x000001F2498B0DC0>, 0.005720385815948248), (<spacy.lexeme.Lexeme object at 0x000001F2498B1C80>, 0.004759781062602997), (<spacy.lexeme.Lexeme object at 0x000001F2498B0100>, 0.004386077634990215), (<spacy.lexeme.Lexeme object at 0x000001F2498B2300>, 0.0009621680364944041), (<spacy.lexeme.Lexeme object at 0x000001F2498B0C40>, -0.001242928672581911), (<spacy.lexeme.Lexeme object at 0x000001F2498B1940>, -0.001569278072565794), (<spacy.lexeme.Lexeme object at 0x000001F2498B16C0>, -0.0031983337830752134), (<spacy.lexeme.Lexeme object at 0x000001F2498B2280>, -0.0035099152009934187), (<spacy.lexeme.Lexeme object at 0x000001F2498B05C0>, -0.007181430701166391), (<spacy.lexeme.Lexeme object at 0x000001F2498B1F40>, -0.007245962042361498), (<spacy.lexeme.Lexeme object at 0x000001F2498B0B40>, -0.010682614520192146), (<spacy.lexeme.Lexeme object at 0x000001F2498B1480>, -0.01189793273806572), (<spacy.lexeme.Lexeme object at 0x000001F2498B2540>, -0.013968191109597683), (<spacy.lexeme.Lexeme object at 0x000001F2498B24C0>, -0.0174685250967741), (<spacy.lexeme.Lexeme object at 0x000001F2498B1340>, -0.022200554609298706), (<spacy.lexeme.Lexeme object at 0x000001F2496EBF40>, -0.03126813471317291), (<spacy.lexeme.Lexeme object at 0x000001F2498B1F80>, -0.04106904938817024), (<spacy.lexeme.Lexeme object at 0x000001F2498B2180>, -0.04508766159415245), (<spacy.lexeme.Lexeme object at 0x000001F2498B1640>, -0.04832000285387039), (<spacy.lexeme.Lexeme object at 0x000001F2498B1E80>, -0.06810466200113297), (<spacy.lexeme.Lexeme object at 0x000001F2498B1100>, -0.07287076115608215), (<spacy.lexeme.Lexeme object at 0x000001F2498B17C0>, -0.07636149227619171), (<spacy.lexeme.Lexeme object at 0x000001F2498B1680>, -0.07872253656387329), (<spacy.lexeme.Lexeme object at 0x000001F2498B0FC0>, -0.08220101147890091), (<spacy.lexeme.Lexeme object at 0x000001F2498B2400>, -0.08385646343231201), (<spacy.lexeme.Lexeme object at 0x000001F2498B2500>, -0.08980458229780197), (<spacy.lexeme.Lexeme object at 0x000001F2498B2240>, -0.0951840877532959), (<spacy.lexeme.Lexeme object at 0x000001F2498B1240>, -0.10074420273303986), (<spacy.lexeme.Lexeme object at 0x000001F2498B0C00>, -0.1028217151761055), (<spacy.lexeme.Lexeme object at 0x000001F2498B1780>, -0.12722618877887726), (<spacy.lexeme.Lexeme object at 0x000001F2498B1B40>, -0.1318208873271942), (<spacy.lexeme.Lexeme object at 0x000001F2498B1500>, -0.14137345552444458), (<spacy.lexeme.Lexeme object at 0x000001F2498B1EC0>, -0.14783941209316254), (<spacy.lexeme.Lexeme object at 0x000001F2498B1200>, -0.20390625298023224), (<spacy.lexeme.Lexeme object at 0x000001F2498B2340>, -0.20889312028884888), (<spacy.lexeme.Lexeme object at 0x000001F2498B0CC0>, -0.21016256511211395), (<spacy.lexeme.Lexeme object at 0x000001F2498B1380>, -0.2223987877368927)]\n"
     ]
    }
   ],
   "source": [
    "print(computed_similarity)"
   ]
  },
  {
   "cell_type": "code",
   "execution_count": 17,
   "metadata": {},
   "outputs": [
    {
     "name": "stdout",
     "output_type": "stream",
     "text": [
      "['king', 'the', 'and', 'that', 'where', 'she', 'they', 'woman', 'there', 'should']\n"
     ]
    }
   ],
   "source": [
    "print([t[0].text for t in computed_similarity[:10]])"
   ]
  },
  {
   "cell_type": "code",
   "execution_count": null,
   "metadata": {},
   "outputs": [],
   "source": []
  },
  {
   "cell_type": "code",
   "execution_count": null,
   "metadata": {},
   "outputs": [],
   "source": []
  }
 ],
 "metadata": {
  "kernelspec": {
   "display_name": "Python 3",
   "language": "python",
   "name": "python3"
  },
  "language_info": {
   "codemirror_mode": {
    "name": "ipython",
    "version": 3
   },
   "file_extension": ".py",
   "mimetype": "text/x-python",
   "name": "python",
   "nbconvert_exporter": "python",
   "pygments_lexer": "ipython3",
   "version": "3.10.2"
  },
  "orig_nbformat": 4
 },
 "nbformat": 4,
 "nbformat_minor": 2
}
